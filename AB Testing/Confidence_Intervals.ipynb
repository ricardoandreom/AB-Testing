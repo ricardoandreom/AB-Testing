{
  "nbformat": 4,
  "nbformat_minor": 0,
  "metadata": {
    "colab": {
      "provenance": []
    },
    "kernelspec": {
      "name": "python3",
      "display_name": "Python 3"
    }
  },
  "cells": [
    {
      "cell_type": "code",
      "metadata": {
        "id": "4UKl_3af3k5Q"
      },
      "source": [
        "import numpy as np\n",
        "from scipy.stats import norm, t"
      ],
      "execution_count": 1,
      "outputs": []
    },
    {
      "cell_type": "code",
      "metadata": {
        "id": "R4smDhteBeLW"
      },
      "source": [
        "np.random.seed(1)"
      ],
      "execution_count": null,
      "outputs": []
    },
    {
      "cell_type": "code",
      "metadata": {
        "id": "E4rh98Ig3qTa"
      },
      "source": [
        "N = 1000\n",
        "mu = 5\n",
        "sigma = 2\n",
        "X = np.random.randn(N)*sigma + mu"
      ],
      "execution_count": null,
      "outputs": []
    },
    {
      "cell_type": "code",
      "metadata": {
        "colab": {
          "base_uri": "https://localhost:8080/"
        },
        "id": "P_-j4yW93_Ca",
        "outputId": "a52d661b-fc89-4aa4-a86d-c2fc82588b7f"
      },
      "source": [
        "# Z-confidence interval\n",
        "mu_hat = np.mean(X)\n",
        "sigma_hat = np.std(X, ddof=1)\n",
        "z_left = norm.ppf(0.025)\n",
        "z_right = norm.ppf(0.975)\n",
        "lower = mu_hat + z_left * sigma_hat / np.sqrt(N)\n",
        "upper = mu_hat + z_right * sigma_hat / np.sqrt(N)\n",
        "print(mu_hat, lower, upper)"
      ],
      "execution_count": null,
      "outputs": [
        {
          "output_type": "stream",
          "name": "stdout",
          "text": [
            "5.077624952319204 4.955959806754385 5.199290097884023\n"
          ]
        }
      ]
    },
    {
      "cell_type": "code",
      "metadata": {
        "colab": {
          "base_uri": "https://localhost:8080/"
        },
        "id": "Z3fgkc5o4eD2",
        "outputId": "b226f1d9-7fef-45a5-9137-617c6d396a75"
      },
      "source": [
        "# t-confidence interval\n",
        "mu_hat = np.mean(X)\n",
        "sigma_hat = np.std(X, ddof=1)\n",
        "t_left = t.ppf(0.025, df=N - 1)\n",
        "t_right = t.ppf(0.975, df=N - 1)\n",
        "lower = mu_hat + t_left * sigma_hat / np.sqrt(N)\n",
        "upper = mu_hat + t_right * sigma_hat / np.sqrt(N)\n",
        "print(mu_hat, lower, upper)"
      ],
      "execution_count": null,
      "outputs": [
        {
          "output_type": "stream",
          "name": "stdout",
          "text": [
            "5.077624952319204 4.9558122244324165 5.199437680205992\n"
          ]
        }
      ]
    },
    {
      "cell_type": "code",
      "metadata": {
        "id": "hMlja_yh4tNk"
      },
      "source": [
        "# Interpretation of confidence interval\n",
        "# If we do this experiment many times, then for the 95% CI\n",
        "# the 95% CI should contain the true value 95% of the time\n",
        "def experiment():\n",
        "  X = np.random.randn(N)*sigma + mu\n",
        "  mu_hat = np.mean(X)\n",
        "  sigma_hat = np.std(X, ddof=1)\n",
        "  t_left = t.ppf(0.025, df=N - 1)\n",
        "  t_right = t.ppf(0.975, df=N - 1)\n",
        "  lower = mu_hat + t_left * sigma_hat / np.sqrt(N)\n",
        "  upper = mu_hat + t_right * sigma_hat / np.sqrt(N)\n",
        "  return mu > lower and mu < upper"
      ],
      "execution_count": null,
      "outputs": []
    },
    {
      "cell_type": "code",
      "metadata": {
        "id": "gI45A6Dz5BKL"
      },
      "source": [
        "def multi_experiment(M):\n",
        "  results = [experiment() for _ in range(M)]\n",
        "  return np.mean(results)"
      ],
      "execution_count": null,
      "outputs": []
    },
    {
      "cell_type": "code",
      "metadata": {
        "colab": {
          "base_uri": "https://localhost:8080/"
        },
        "id": "5_PTxSse5L5w",
        "outputId": "78e8dbd6-9f60-4f79-d163-ac23aad1e832"
      },
      "source": [
        "multi_experiment(10000)"
      ],
      "execution_count": null,
      "outputs": [
        {
          "output_type": "execute_result",
          "data": {
            "text/plain": [
              "0.952"
            ]
          },
          "metadata": {},
          "execution_count": 11
        }
      ]
    }
  ]
}